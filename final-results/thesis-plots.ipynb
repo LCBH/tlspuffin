{
 "cells": [
  {
   "cell_type": "code",
   "execution_count": 82,
   "id": "6c96af5b-1dda-4dce-885f-3f8ea2d285b7",
   "metadata": {},
   "outputs": [],
   "source": [
    "import sys,os,os.path\n",
    "os.environ['PATH']=os.environ['PATH']+':/local-homes/mammann/texlive/bin/x86_64-linux/'"
   ]
  },
  {
   "cell_type": "code",
   "execution_count": 83,
   "id": "b07e7b81-3502-4aeb-861a-df1c55a03bac",
   "metadata": {},
   "outputs": [
    {
     "name": "stdout",
     "output_type": "stream",
     "text": [
      "The autoreload extension is already loaded. To reload it, use:\n",
      "  %reload_ext autoreload\n"
     ]
    }
   ],
   "source": [
    "%load_ext autoreload\n",
    "%autoreload 2\n",
    "from tlspuffin_analyzer import *\n",
    "import matplotlib.pyplot as plt\n",
    "import matplotlib.ticker as ticker"
   ]
  },
  {
   "cell_type": "code",
   "execution_count": 84,
   "id": "8a9b99d2-72c2-4bc2-9672-f0e747bd7ec5",
   "metadata": {},
   "outputs": [
    {
     "name": "stderr",
     "output_type": "stream",
     "text": [
      "/usr/lib/python3.8/_collections_abc.py:832: MatplotlibDeprecationWarning: Support for setting the 'text.latex.preamble' or 'pgf.preamble' rcParam to a list of strings is deprecated since 3.3 and will be removed two minor releases later; set it to a single string instead.\n",
      "  self[key] = other[key]\n"
     ]
    }
   ],
   "source": [
    "plt.rcParams.update({\n",
    "    \"font.family\": \"serif\",\n",
    "    \"font.size\": \"8\",\n",
    "    \"text.usetex\": True,\n",
    "    \"pgf.rcfonts\": False,\n",
    "    \"pgf.texsystem\": \"pdflatex\",\n",
    "    \"lines.linewidth\": 0.5,\n",
    "#    'figure.dpi': 300,\n",
    "    \"pgf.preamble\": [\n",
    "         r\"\\usepackage[utf8x]{inputenc}\",\n",
    "         r\"\\usepackage[T1]{fontenc}\",\n",
    "         r\"\\usepackage{cmbright}\",\n",
    "         ]\n",
    "})"
   ]
  },
  {
   "cell_type": "code",
   "execution_count": 85,
   "id": "1c85c61b-8c1b-495e-b492-95957229fbe1",
   "metadata": {},
   "outputs": [],
   "source": [
    "pesto_path = \"/local-homes/mammann/tlspuffin/experiments\"\n",
    "\n",
    "from IPython.display import display, Markdown\n",
    "\n",
    "def display_readme(path):\n",
    "    with open (path, \"r\") as file:\n",
    "        display(Markdown(file.read()))\n",
    "        \n",
    "def load(path, experiment, specific=1, use_fixed=False):\n",
    "    if use_fixed:\n",
    "        stats = load_json_slurpy(\"%s/%s/stats-fixed.json\" % (path, experiment), specific)\n",
    "    else:\n",
    "        stats = load_json_slurpy(\"%s/%s/stats.json\" % (path, experiment), specific)\n",
    "    start_date = get_start_date(stats)\n",
    "\n",
    "    display_readme(\"%s/%s/README.md\" % (path, experiment))\n",
    "    return stats, start_date\n",
    "\n",
    "#def plot_stats(path, experiment, specific=1):\n",
    "#    stats, start_date = load(path, experiment, specific)\n",
    "#    fig = plot_client_stats(start_date, stats)\n",
    "#\n",
    "#    fig.set_size_inches(12, 14, forward=True)\n",
    "#    fig.tight_layout(pad=1)\n",
    "#    plt.show()\n",
    "\n",
    "width = 2.9\n",
    "height = 1.2\n",
    "\n",
    "def setup_yaxis(ax, interval):\n",
    "    loc = ticker.MultipleLocator(base=interval) # this locator puts ticks at regular intervals\n",
    "    ax.yaxis.set_major_locator(loc)"
   ]
  },
  {
   "cell_type": "code",
   "execution_count": 86,
   "id": "d9c28c47-956b-42b2-a391-2d146a7cac04",
   "metadata": {},
   "outputs": [],
   "source": [
    "def thesis_plot_corpus_size(path, experiment):\n",
    "    stats, start_date = load(path, experiment, 3)\n",
    "    times, data = spread_xy(start_date, stats)\n",
    "    \n",
    "    fig, ax = plt.subplots()\n",
    "    \n",
    "    fig.set_size_inches(width, height)\n",
    "    \n",
    "    plot_single(ax, times, data, lambda stats: stats[\"corpus_size\"], \"Corpus Size\")\n",
    "    plt.savefig(experiment + \"_corpus-size.pdf\", bbox_inches=\"tight\")"
   ]
  },
  {
   "cell_type": "code",
   "execution_count": 87,
   "id": "8580acae-dd54-48e1-bb5c-364542568277",
   "metadata": {},
   "outputs": [],
   "source": [
    "def thesis_plot_coverage(path, experiment, use_fixed=False):\n",
    "    stats, start_date = load(path, experiment, specific=3, use_fixed= use_fixed)\n",
    "    times, data = spread_xy(start_date, stats)\n",
    "    \n",
    "    print(\"Max edges: \" + str(data[0][\"coverage\"][\"max\"]))\n",
    "    \n",
    "    fig, ax = plt.subplots()\n",
    "    setup_yaxis(ax, 100)\n",
    "    \n",
    "    fig.set_size_inches(width, height)\n",
    "    #ax.set_ylim([4500,6100])\n",
    "    plot_single(ax, times, data, lambda stats: stats[\"coverage\"][\"discovered\"], \"Coverage\")\n",
    "    #plt.yscale('log')\n",
    "    plt.savefig(experiment + \"_coverage.pdf\", bbox_inches=\"tight\")"
   ]
  },
  {
   "cell_type": "code",
   "execution_count": 88,
   "id": "5dfc19ca-2e26-42cf-92d1-f0a0d36d4a8b",
   "metadata": {},
   "outputs": [],
   "source": [
    "def thesis_plot_execs_per_s(path, experiment, specific=3,use_fixed=False):\n",
    "    stats, start_date = load(path, experiment, specific, use_fixed)\n",
    "    times, data = spread_xy(start_date, stats)\n",
    "    \n",
    "    fig, ax = plt.subplots()\n",
    "    \n",
    "    setup_yaxis(ax, 100)\n",
    "    fig.set_size_inches(width, height)\n",
    "    \n",
    "    plot_single(ax, times, data, lambda stats: stats[\"exec_per_sec\"], \"Execs/s\", smooth=True)\n",
    "    plt.savefig(experiment + \"_execs_per_s.pdf\", bbox_inches=\"tight\")"
   ]
  },
  {
   "cell_type": "code",
   "execution_count": 89,
   "id": "2afaafd8-1a56-4e7f-a3fb-c39bc0f20300",
   "metadata": {},
   "outputs": [],
   "source": [
    "def thesis_plot_objectives(path, experiment, specific=3, use_fixed=False, trunc_minutes=None):\n",
    "    stats, start_date = load(path, experiment, specific, use_fixed)\n",
    "    times, data = spread_xy(start_date, stats, trunc_minutes=trunc_minutes)\n",
    "    \n",
    "    fig, ax = plt.subplots()\n",
    "    \n",
    "    fig.set_size_inches(width, height)\n",
    "    \n",
    "    plot_with_other(ax, times, data, \n",
    "                     lambda stats: stats[\"objective_size\"], \"Objective Corpus\",\n",
    "                     lambda stats: stats[\"corpus_size\"], \"Seed Corpus\"\n",
    "    )\n",
    "    plt.savefig(experiment + \"_objectives.pdf\", bbox_inches=\"tight\")"
   ]
  },
  {
   "cell_type": "code",
   "execution_count": 90,
   "id": "00456024-6a6d-4ceb-8ea7-c05e5872af2a",
   "metadata": {},
   "outputs": [],
   "source": [
    "def thesis_plot_perf(path, experiment):\n",
    "    stats, start_date = load(path, experiment, 3)\n",
    "    times, data = spread_xy(start_date, stats)\n",
    "    \n",
    "    fig, ax = plt.subplots()\n",
    "    \n",
    "    fig.set_size_inches(width, height)\n",
    "    \n",
    "    plot_single(ax, times, data, \n",
    "                lambda stats: stats[\"intro\"][\"introspect_features\"][\"mutate\"], \"Mutations\", color=\"#ca0020\"\n",
    "    )\n",
    "    plot_single(ax, times, data, \n",
    "                lambda stats: stats[\"intro\"][\"introspect_features\"][\"target_execution\"], \"LUT\", color=\"#0571b0\"\n",
    "    )\n",
    "    ax.set_ylabel(\"Perf Share\", color=\"black\")\n",
    "    ax.legend(loc='center right')\n",
    "    plt.savefig(experiment + \"_perf.pdf\", bbox_inches=\"tight\")"
   ]
  },
  {
   "cell_type": "code",
   "execution_count": 91,
   "id": "345fec48-23d5-4d55-9bf7-3b0d34bc80af",
   "metadata": {},
   "outputs": [],
   "source": [
    "def thesis_plot_trace(path, experiment):\n",
    "    stats, start_date = load(path, experiment, 3)\n",
    "    times, data = spread_xy(start_date, stats)\n",
    "    \n",
    "    fig, ax = plt.subplots()\n",
    "    \n",
    "    fig.set_size_inches(width, height)\n",
    "    \n",
    "    plot_single(ax, times, data, lambda stats: stats[\"trace\"][\"mean_trace_length\"], \"Mean Trace Length\", smooth=True)\n",
    "    plt.savefig(experiment + \"trace-size.pdf\", bbox_inches=\"tight\")"
   ]
  },
  {
   "cell_type": "code",
   "execution_count": 92,
   "id": "5c7288a9-0351-44ff-9784-a5c34be61f2d",
   "metadata": {},
   "outputs": [],
   "source": [
    "def thesis_plot_term(path, experiment):\n",
    "    stats, start_date = load(path, experiment, 3)\n",
    "    times, data = spread_xy(start_date, stats)\n",
    "    \n",
    "    fig, ax = plt.subplots()\n",
    "    \n",
    "    fig.set_size_inches(width, height)\n",
    "    \n",
    "    plot_single(ax, times, data, lambda stats: stats[\"trace\"][\"mean_term_size\"], \"Mean Recipe Size\", smooth=True)\n",
    "    plt.savefig(experiment + \"term-size.pdf\", bbox_inches=\"tight\")"
   ]
  },
  {
   "cell_type": "code",
   "execution_count": 93,
   "id": "99a24111-69a3-40e5-89bb-a2eaa25a054f",
   "metadata": {},
   "outputs": [],
   "source": [
    "def thesis_plot_trace_term(path, experiment):\n",
    "    stats, start_date = load(path, experiment, 3)\n",
    "    times, data = spread_xy(start_date, stats)\n",
    "    \n",
    "    fig, ax = plt.subplots()\n",
    "    \n",
    "    fig.set_size_inches(width, height)\n",
    "    \n",
    "    plot_single(ax, times, data, \n",
    "                lambda stats: stats[\"trace\"][\"mean_term_size\"], \"Mean Term Size\", color=\"#ca0020\", smooth=True\n",
    "    )\n",
    "    ax = ax.twinx()\n",
    "    plot_single(ax, times, data, \n",
    "                lambda stats: stats[\"trace\"][\"mean_trace_length\"], \"Mean Trace Length\", color=\"#0571b0\", smooth=True\n",
    "    )\n",
    "    \n",
    "    plt.savefig(experiment + \"trace-term-size.pdf\", bbox_inches=\"tight\")"
   ]
  },
  {
   "cell_type": "markdown",
   "id": "c6bc96c6-e109-4137-bd04-c078ce78f373",
   "metadata": {},
   "source": [
    "## OpenSSL 111k"
   ]
  },
  {
   "cell_type": "code",
   "execution_count": 94,
   "id": "2e613d42-8db5-4615-9d2c-4d2da89f8db1",
   "metadata": {},
   "outputs": [
    {
     "data": {
      "text/markdown": [
       "# Experiment: thesis-openssl\n",
       "* OpenSSL: OpenSSL 1.1.1k  25 Mar 2021\n",
       "* Date: 2021-08-31T14:05:20.148677249+02:00\n",
       "* Git Ref: b95f0feec66bd267199e805574876b1084a59b39\n",
       "* Git Commit: Switch from core number to core definition\n",
       "* Log: [tlspuffin-log.json](./tlspuffin-log.json)\n",
       "\n",
       "Run for thesis\n"
      ],
      "text/plain": [
       "<IPython.core.display.Markdown object>"
      ]
     },
     "metadata": {},
     "output_type": "display_data"
    },
    {
     "name": "stdout",
     "output_type": "stream",
     "text": [
      "Max value in plotted data: 481\n"
     ]
    },
    {
     "data": {
      "image/png": "[encoded data removed]",
      "text/plain": [
       "<Figure size 208.8x86.4 with 1 Axes>"
      ]
     },
     "metadata": {
      "needs_background": "light"
     },
     "output_type": "display_data"
    }
   ],
   "source": [
    "# OpenSSL 111k: Normal execution, Corpus Size\n",
    "thesis_plot_corpus_size(pesto_path, \"2021-08-31-140520-thesis-openssl-0\")"
   ]
  },
  {
   "cell_type": "code",
   "execution_count": 95,
   "id": "7f3abed0-98df-4824-968f-1df9351d804e",
   "metadata": {},
   "outputs": [
    {
     "data": {
      "text/markdown": [
       "# Experiment: thesis-openssl111-again\n",
       "* OpenSSL: OpenSSL 1.1.1k  25 Mar 2021\n",
       "* Date: 2021-10-01T13:29:52.811972451+02:00\n",
       "* Git Ref: 5a9213bf0d6db615e011b42b3eff3a7c6a92701e\n",
       "* Git Commit: Add run configs for OpenSSL 102\n",
       "* Log: [tlspuffin-log.json](./tlspuffin-log.json)\n",
       "\n",
       "Redo intial experiment\n"
      ],
      "text/plain": [
       "<IPython.core.display.Markdown object>"
      ]
     },
     "metadata": {},
     "output_type": "display_data"
    },
    {
     "name": "stdout",
     "output_type": "stream",
     "text": [
      "Max value in plotted data: 455\n"
     ]
    },
    {
     "data": {
      "image/png": "[encoded data removed]",
      "text/plain": [
       "<Figure size 208.8x86.4 with 1 Axes>"
      ]
     },
     "metadata": {
      "needs_background": "light"
     },
     "output_type": "display_data"
    }
   ],
   "source": [
    "thesis_plot_corpus_size(pesto_path, \"2021-10-01-132952-thesis-openssl111-again-0\")"
   ]
  },
  {
   "cell_type": "code",
   "execution_count": 96,
   "id": "fa85e874-5a50-4385-9d61-5f9c4e1190bc",
   "metadata": {},
   "outputs": [
    {
     "data": {
      "text/markdown": [
       "# Experiment: thesis-openssl\n",
       "* OpenSSL: OpenSSL 1.1.1k  25 Mar 2021\n",
       "* Date: 2021-08-31T14:05:20.148677249+02:00\n",
       "* Git Ref: b95f0feec66bd267199e805574876b1084a59b39\n",
       "* Git Commit: Switch from core number to core definition\n",
       "* Log: [tlspuffin-log.json](./tlspuffin-log.json)\n",
       "\n",
       "Run for thesis\n"
      ],
      "text/plain": [
       "<IPython.core.display.Markdown object>"
      ]
     },
     "metadata": {},
     "output_type": "display_data"
    },
    {
     "name": "stdout",
     "output_type": "stream",
     "text": [
      "Max value in plotted data: 5736\n"
     ]
    },
    {
     "data": {
      "image/png": "[encoded data removed]",
      "text/plain": [
       "<Figure size 208.8x86.4 with 1 Axes>"
      ]
     },
     "metadata": {
      "needs_background": "light"
     },
     "output_type": "display_data"
    }
   ],
   "source": [
    "thesis_plot_execs_per_s(pesto_path, \"2021-08-31-140520-thesis-openssl-0\", specific=10)\n",
    "#thesis_plot_execs_per_s(pesto_path, \"2021-10-03-171441-thesis-openssl101f-0\", specific=1)"
   ]
  },
  {
   "cell_type": "markdown",
   "id": "e90b68f9-1b9d-4357-ab41-43555cdc42cd",
   "metadata": {},
   "source": []
  },
  {
   "cell_type": "code",
   "execution_count": 97,
   "id": "47bb52db-b608-4067-a86a-bc8a0c2cb0f9",
   "metadata": {},
   "outputs": [
    {
     "data": {
      "text/markdown": [
       "# Experiment: thesis-openssl\n",
       "* OpenSSL: OpenSSL 1.1.1k  25 Mar 2021\n",
       "* Date: 2021-08-31T14:05:20.148677249+02:00\n",
       "* Git Ref: b95f0feec66bd267199e805574876b1084a59b39\n",
       "* Git Commit: Switch from core number to core definition\n",
       "* Log: [tlspuffin-log.json](./tlspuffin-log.json)\n",
       "\n",
       "Run for thesis\n"
      ],
      "text/plain": [
       "<IPython.core.display.Markdown object>"
      ]
     },
     "metadata": {},
     "output_type": "display_data"
    },
    {
     "name": "stdout",
     "output_type": "stream",
     "text": [
      "Max edges: 35044\n",
      "Max value in plotted data: 6060\n"
     ]
    },
    {
     "data": {
      "image/png": "[encoded data removed]",
      "text/plain": [
       "<Figure size 208.8x86.4 with 1 Axes>"
      ]
     },
     "metadata": {
      "needs_background": "light"
     },
     "output_type": "display_data"
    }
   ],
   "source": [
    "thesis_plot_coverage(pesto_path, \"2021-08-31-140520-thesis-openssl-0\")"
   ]
  },
  {
   "cell_type": "code",
   "execution_count": 98,
   "id": "39b05479-1b12-40de-ab4e-47174ba922fd",
   "metadata": {},
   "outputs": [
    {
     "data": {
      "text/markdown": [
       "# Experiment: thesis-openssl111-again\n",
       "* OpenSSL: OpenSSL 1.1.1k  25 Mar 2021\n",
       "* Date: 2021-10-01T13:29:52.811972451+02:00\n",
       "* Git Ref: 5a9213bf0d6db615e011b42b3eff3a7c6a92701e\n",
       "* Git Commit: Add run configs for OpenSSL 102\n",
       "* Log: [tlspuffin-log.json](./tlspuffin-log.json)\n",
       "\n",
       "Redo intial experiment\n"
      ],
      "text/plain": [
       "<IPython.core.display.Markdown object>"
      ]
     },
     "metadata": {},
     "output_type": "display_data"
    },
    {
     "name": "stdout",
     "output_type": "stream",
     "text": [
      "Max value in plotted data: 0.020005208\n",
      "Max value in plotted data: 0.9549688\n"
     ]
    },
    {
     "data": {
      "image/png": "[encoded data removed]",
      "text/plain": [
       "<Figure size 208.8x86.4 with 1 Axes>"
      ]
     },
     "metadata": {
      "needs_background": "light"
     },
     "output_type": "display_data"
    }
   ],
   "source": [
    "# OpenSSL 111k: Perf Stats\n",
    "thesis_plot_perf(pesto_path, \"2021-10-01-132952-thesis-openssl111-again-0\")"
   ]
  },
  {
   "cell_type": "code",
   "execution_count": 99,
   "id": "019e3c62-ba58-4eab-9646-042f3463d9a8",
   "metadata": {},
   "outputs": [
    {
     "data": {
      "text/markdown": [
       "# Experiment: thesis-openssl-sanitizer\n",
       "* OpenSSL: OpenSSL 1.1.1k  25 Mar 2021\n",
       "* Date: 2021-09-13T11:00:48.373871027+02:00\n",
       "* Git Ref: b95f0feec66bd267199e805574876b1084a59b39\n",
       "* Git Commit: Switch from core number to core definition\n",
       "* Log: [tlspuffin-log.json](./tlspuffin-log.json)\n",
       "\n",
       "With ASAN\n"
      ],
      "text/plain": [
       "<IPython.core.display.Markdown object>"
      ]
     },
     "metadata": {},
     "output_type": "display_data"
    },
    {
     "name": "stdout",
     "output_type": "stream",
     "text": [
      "Max value in plotted data: 1668\n"
     ]
    },
    {
     "data": {
      "image/png": "[encoded data removed]",
      "text/plain": [
       "<Figure size 208.8x86.4 with 1 Axes>"
      ]
     },
     "metadata": {
      "needs_background": "light"
     },
     "output_type": "display_data"
    }
   ],
   "source": [
    "# OpenSSL 111k: With ASAN\n",
    "thesis_plot_execs_per_s(pesto_path, \"2021-09-13-110048-thesis-openssl-sanitizer-0\")"
   ]
  },
  {
   "cell_type": "code",
   "execution_count": 100,
   "id": "431aa0a6-818d-4fc7-ab3a-205693885975",
   "metadata": {},
   "outputs": [
    {
     "data": {
      "text/markdown": [
       "# Experiment: thesis-openssl-no-minimzer\n",
       "* OpenSSL: OpenSSL 1.1.1k  25 Mar 2021\n",
       "* Date: 2021-09-13T11:11:06.330605492+02:00\n",
       "* Git Ref: b95f0feec66bd267199e805574876b1084a59b39\n",
       "* Git Commit: Switch from core number to core definition\n",
       "* Log: [tlspuffin-log.json](./tlspuffin-log.json)\n",
       "\n",
       "Without minimizer (minimizes only trace length, not term size)\n"
      ],
      "text/plain": [
       "<IPython.core.display.Markdown object>"
      ]
     },
     "metadata": {},
     "output_type": "display_data"
    },
    {
     "name": "stdout",
     "output_type": "stream",
     "text": [
      "Max value in plotted data: 459\n"
     ]
    },
    {
     "data": {
      "image/png": "[encoded data removed]",
      "text/plain": [
       "<Figure size 208.8x86.4 with 1 Axes>"
      ]
     },
     "metadata": {
      "needs_background": "light"
     },
     "output_type": "display_data"
    }
   ],
   "source": [
    "# OpenSSL 111k: No minimizer\n",
    "thesis_plot_corpus_size(pesto_path, \"2021-09-13-111106-thesis-openssl-no-minimzer-0\")"
   ]
  },
  {
   "cell_type": "markdown",
   "id": "04e94b32-a59f-47ac-983f-441b207099fb",
   "metadata": {},
   "source": [
    "## OpenSSL 102u"
   ]
  },
  {
   "cell_type": "code",
   "execution_count": 101,
   "id": "fbd3eb1f-e214-4650-9907-835e4c6c48d8",
   "metadata": {},
   "outputs": [
    {
     "data": {
      "text/markdown": [
       "# Experiment: thesis-openssl102u\n",
       "* OpenSSL: OpenSSL 1.0.2u  20 Dec 2019\n",
       "* Date: 2021-10-01T13:23:09.746851989+02:00\n",
       "* Git Ref: 5a9213bf0d6db615e011b42b3eff3a7c6a92701e\n",
       "* Git Commit: Add run configs for OpenSSL 102\n",
       "* Log: [tlspuffin-log.json](./tlspuffin-log.json)\n",
       "\n",
       "Run with openssl102u with seeds: client_attacker12, seed_sucessful12\n"
      ],
      "text/plain": [
       "<IPython.core.display.Markdown object>"
      ]
     },
     "metadata": {},
     "output_type": "display_data"
    },
    {
     "name": "stdout",
     "output_type": "stream",
     "text": [
      "Max value in plotted data: 399\n"
     ]
    },
    {
     "data": {
      "image/png": "[encoded data removed]",
      "text/plain": [
       "<Figure size 208.8x86.4 with 1 Axes>"
      ]
     },
     "metadata": {
      "needs_background": "light"
     },
     "output_type": "display_data"
    }
   ],
   "source": [
    "# OpenSSL 102u: Normal execution, Corpus Size\n",
    "thesis_plot_corpus_size(pesto_path, \"2021-10-01-132309-thesis-openssl102u-0\")"
   ]
  },
  {
   "cell_type": "code",
   "execution_count": 102,
   "id": "dc80d28c-da67-42fa-9849-a015d63dedcc",
   "metadata": {},
   "outputs": [
    {
     "data": {
      "text/markdown": [
       "# Experiment: thesis-openssl102u\n",
       "* OpenSSL: OpenSSL 1.0.2u  20 Dec 2019\n",
       "* Date: 2021-10-01T13:23:09.746851989+02:00\n",
       "* Git Ref: 5a9213bf0d6db615e011b42b3eff3a7c6a92701e\n",
       "* Git Commit: Add run configs for OpenSSL 102\n",
       "* Log: [tlspuffin-log.json](./tlspuffin-log.json)\n",
       "\n",
       "Run with openssl102u with seeds: client_attacker12, seed_sucessful12\n"
      ],
      "text/plain": [
       "<IPython.core.display.Markdown object>"
      ]
     },
     "metadata": {},
     "output_type": "display_data"
    },
    {
     "name": "stdout",
     "output_type": "stream",
     "text": [
      "Max edges: 27644\n",
      "Max value in plotted data: 4774\n"
     ]
    },
    {
     "data": {
      "image/png": "[encoded data removed]",
      "text/plain": [
       "<Figure size 208.8x86.4 with 1 Axes>"
      ]
     },
     "metadata": {
      "needs_background": "light"
     },
     "output_type": "display_data"
    }
   ],
   "source": [
    "thesis_plot_coverage(pesto_path, \"2021-10-01-132309-thesis-openssl102u-0\")"
   ]
  },
  {
   "cell_type": "markdown",
   "id": "d151a119-fc08-41d0-bb17-deb127c703a5",
   "metadata": {},
   "source": [
    "## OpenSSL 101f"
   ]
  },
  {
   "cell_type": "code",
   "execution_count": 103,
   "id": "9febae23-3e08-4d53-b474-cd2560fda001",
   "metadata": {},
   "outputs": [
    {
     "data": {
      "text/markdown": [
       "# Experiment: thesis-openssl101f\n",
       "* OpenSSL: OpenSSL 1.0.1f 6 Jan 2014\n",
       "* Date: 2021-10-03T17:14:41.970907640+02:00\n",
       "* Git Ref: adfd65e9e7a7be67e54f629ccefe6ba7983bfb7e\n",
       "* Git Commit: Enable smoothing\n",
       "* Log: [tlspuffin-log.json](./tlspuffin-log.json)\n",
       "\n",
       "Run with openssl101f with seeds: client_attacker12, seed_sucessful12\n"
      ],
      "text/plain": [
       "<IPython.core.display.Markdown object>"
      ]
     },
     "metadata": {},
     "output_type": "display_data"
    },
    {
     "name": "stdout",
     "output_type": "stream",
     "text": [
      "Max value in plotted data: 498\n"
     ]
    },
    {
     "data": {
      "image/png": "[encoded data removed]",
      "text/plain": [
       "<Figure size 208.8x86.4 with 1 Axes>"
      ]
     },
     "metadata": {
      "needs_background": "light"
     },
     "output_type": "display_data"
    }
   ],
   "source": [
    "# OpenSSL 101f: Normal execution, Corpus Size\n",
    "thesis_plot_corpus_size(pesto_path, \"2021-10-03-171441-thesis-openssl101f-0\")"
   ]
  },
  {
   "cell_type": "code",
   "execution_count": 104,
   "id": "efcc80a4-2454-45ce-ab8a-06c433064133",
   "metadata": {},
   "outputs": [
    {
     "data": {
      "text/markdown": [
       "# Experiment: thesis-openssl101f\n",
       "* OpenSSL: OpenSSL 1.0.1f 6 Jan 2014\n",
       "* Date: 2021-10-03T17:14:41.970907640+02:00\n",
       "* Git Ref: adfd65e9e7a7be67e54f629ccefe6ba7983bfb7e\n",
       "* Git Commit: Enable smoothing\n",
       "* Log: [tlspuffin-log.json](./tlspuffin-log.json)\n",
       "\n",
       "Run with openssl101f with seeds: client_attacker12, seed_sucessful12\n"
      ],
      "text/plain": [
       "<IPython.core.display.Markdown object>"
      ]
     },
     "metadata": {},
     "output_type": "display_data"
    },
    {
     "name": "stdout",
     "output_type": "stream",
     "text": [
      "Max edges: 22568\n",
      "Max value in plotted data: 4630\n"
     ]
    },
    {
     "data": {
      "image/png": "[encoded data removed]",
      "text/plain": [
       "<Figure size 208.8x86.4 with 1 Axes>"
      ]
     },
     "metadata": {
      "needs_background": "light"
     },
     "output_type": "display_data"
    }
   ],
   "source": [
    "thesis_plot_coverage(pesto_path, \"2021-10-03-171441-thesis-openssl101f-0\")"
   ]
  },
  {
   "cell_type": "markdown",
   "id": "cd18bed0-03e1-496d-bbd9-6cf9c019ee65",
   "metadata": {},
   "source": [
    "## LibreSSL"
   ]
  },
  {
   "cell_type": "code",
   "execution_count": 105,
   "id": "2e3c6bd4-5cbc-40bb-b92a-1a023379ed35",
   "metadata": {},
   "outputs": [
    {
     "data": {
      "text/markdown": [
       "# Experiment: thesis-libressl\n",
       "* OpenSSL: LibreSSL 3.3.3\n",
       "* Date: 2021-08-30T19:50:54.481871812+02:00\n",
       "* Git Ref: 058262f56bd86893c68fb171662d236a42d7d072\n",
       "* Git Commit: Update corpus\n",
       "* Log: [tlspuffin-log.json](./tlspuffin-log.json)\n",
       "\n",
       "Run for thesis with LibreSSL enabled; --no-default-features --features libressl,sancov_libafl,introspection\n"
      ],
      "text/plain": [
       "<IPython.core.display.Markdown object>"
      ]
     },
     "metadata": {},
     "output_type": "display_data"
    },
    {
     "name": "stdout",
     "output_type": "stream",
     "text": [
      "Max value in plotted data: 476\n"
     ]
    },
    {
     "data": {
      "image/png": "[encoded data removed]",
      "text/plain": [
       "<Figure size 208.8x86.4 with 1 Axes>"
      ]
     },
     "metadata": {
      "needs_background": "light"
     },
     "output_type": "display_data"
    }
   ],
   "source": [
    "# LibreSSL: Normal execution, corpus size\n",
    "thesis_plot_corpus_size(pesto_path, \"2021-08-30-195054-thesis-libressl-0\")"
   ]
  },
  {
   "cell_type": "code",
   "execution_count": 106,
   "id": "81350125-0aad-49c5-b05c-906d23737006",
   "metadata": {},
   "outputs": [
    {
     "data": {
      "text/markdown": [
       "# Experiment: thesis-libressl\n",
       "* OpenSSL: LibreSSL 3.3.3\n",
       "* Date: 2021-08-30T19:50:54.481871812+02:00\n",
       "* Git Ref: 058262f56bd86893c68fb171662d236a42d7d072\n",
       "* Git Commit: Update corpus\n",
       "* Log: [tlspuffin-log.json](./tlspuffin-log.json)\n",
       "\n",
       "Run for thesis with LibreSSL enabled; --no-default-features --features libressl,sancov_libafl,introspection\n"
      ],
      "text/plain": [
       "<IPython.core.display.Markdown object>"
      ]
     },
     "metadata": {},
     "output_type": "display_data"
    },
    {
     "name": "stdout",
     "output_type": "stream",
     "text": [
      "Max edges: 26257\n",
      "Max value in plotted data: 4654\n"
     ]
    },
    {
     "data": {
      "image/png": "[encoded data removed]",
      "text/plain": [
       "<Figure size 208.8x86.4 with 1 Axes>"
      ]
     },
     "metadata": {
      "needs_background": "light"
     },
     "output_type": "display_data"
    }
   ],
   "source": [
    "thesis_plot_coverage(pesto_path, \"2021-08-30-195054-thesis-libressl-0\")"
   ]
  },
  {
   "cell_type": "markdown",
   "id": "fb98b685-6256-433e-b11c-390674a8485b",
   "metadata": {},
   "source": [
    "## CVE 2021"
   ]
  },
  {
   "cell_type": "code",
   "execution_count": 107,
   "id": "bad42edd-b88e-49f1-91c6-187de0a130e1",
   "metadata": {},
   "outputs": [
    {
     "data": {
      "text/markdown": [
       "# Experiment: 2021-06-28T17:18:22Z-e29788aec4ed9a6237194ecce45017133ae708b0\n",
       "* OpenSSL: OpenSSL 1.1.1j  16 Feb 2021\n",
       "* Date: 2021-06-28T17:18:22.325950607+00:00\n",
       "* Git Ref: e29788aec4ed9a6237194ecce45017133ae708b0\n",
       "* Git Commit: Fix ref\n",
       "* Log: [tlspuffin-log.json](./tlspuffin-log.json)\n",
       "\n",
       "No Description, because this is a quick experiment.\n"
      ],
      "text/plain": [
       "<IPython.core.display.Markdown object>"
      ]
     },
     "metadata": {},
     "output_type": "display_data"
    },
    {
     "data": {
      "image/png": "[encoded data removed]",
      "text/plain": [
       "<Figure size 208.8x86.4 with 2 Axes>"
      ]
     },
     "metadata": {
      "needs_background": "light"
     },
     "output_type": "display_data"
    }
   ],
   "source": [
    "thesis_plot_objectives(pesto_path, \"2021-06-28T17:18:22Z-e29788aec4ed9a6237194ecce45017133ae708b0\", specific=1)"
   ]
  },
  {
   "cell_type": "markdown",
   "id": "fe857f02-e478-4fc4-80f4-4ccc5e8ea38f",
   "metadata": {},
   "source": [
    "## Heartbleed"
   ]
  },
  {
   "cell_type": "code",
   "execution_count": 108,
   "id": "2a21f344-fe89-4861-a847-89b620086d8b",
   "metadata": {},
   "outputs": [
    {
     "data": {
      "text/markdown": [
       "# Experiment: thesis-openssl101f-asan\n",
       "* OpenSSL: OpenSSL 1.0.1f 6 Jan 2014\n",
       "* Date: 2021-10-03T17:10:20.591431956+02:00\n",
       "* Git Ref: adfd65e9e7a7be67e54f629ccefe6ba7983bfb7e\n",
       "* Git Commit: Enable smoothing\n",
       "* Log: [tlspuffin-log.json](./tlspuffin-log.json)\n",
       "\n",
       "Run with openssl101f with seeds and asan: client_attacker12, seed_sucessful12\n"
      ],
      "text/plain": [
       "<IPython.core.display.Markdown object>"
      ]
     },
     "metadata": {},
     "output_type": "display_data"
    },
    {
     "data": {
      "image/png": "[encoded data removed]",
      "text/plain": [
       "<Figure size 208.8x86.4 with 2 Axes>"
      ]
     },
     "metadata": {
      "needs_background": "light"
     },
     "output_type": "display_data"
    }
   ],
   "source": [
    "thesis_plot_objectives(pesto_path, \"2021-10-03-171020-thesis-openssl101f-asan-0\", specific=11, use_fixed=True)"
   ]
  },
  {
   "cell_type": "markdown",
   "id": "0aab3733-bb2a-46c0-8a80-c0403f6a9353",
   "metadata": {},
   "source": [
    "## Executions per Second"
   ]
  },
  {
   "cell_type": "code",
   "execution_count": 109,
   "id": "658539b3-f998-4014-96dd-06fe7117f270",
   "metadata": {},
   "outputs": [
    {
     "data": {
      "text/markdown": [
       "# Experiment: thesis-openssl\n",
       "* OpenSSL: OpenSSL 1.1.1k  25 Mar 2021\n",
       "* Date: 2021-08-31T14:05:20.148677249+02:00\n",
       "* Git Ref: b95f0feec66bd267199e805574876b1084a59b39\n",
       "* Git Commit: Switch from core number to core definition\n",
       "* Log: [tlspuffin-log.json](./tlspuffin-log.json)\n",
       "\n",
       "Run for thesis\n"
      ],
      "text/plain": [
       "<IPython.core.display.Markdown object>"
      ]
     },
     "metadata": {},
     "output_type": "display_data"
    },
    {
     "name": "stdout",
     "output_type": "stream",
     "text": [
      "19720\n",
      "19294728\n",
      "535.9646666666666\n"
     ]
    }
   ],
   "source": [
    "def execs_p_sec_average(path, experiment):\n",
    "    stats, start_date = load(path, experiment, 3)\n",
    "    times, data = spread_xy(start_date, stats, trunc_minutes=10*60)\n",
    "    \n",
    "    print(data[-1][\"total_execs\"])\n",
    "    print(data[-1][\"total_execs\"] / (10*60*60))\n",
    "\n",
    "execs_p_sec_average(pesto_path, \"2021-08-31-140520-thesis-openssl-0\")"
   ]
  },
  {
   "cell_type": "code",
   "execution_count": 110,
   "id": "a8721141-0d63-4d61-96a5-b06397f1e356",
   "metadata": {},
   "outputs": [
    {
     "data": {
      "text/markdown": [
       "# Experiment: thesis-openssl-sanitizer\n",
       "* OpenSSL: OpenSSL 1.1.1k  25 Mar 2021\n",
       "* Date: 2021-09-13T11:00:48.373871027+02:00\n",
       "* Git Ref: b95f0feec66bd267199e805574876b1084a59b39\n",
       "* Git Commit: Switch from core number to core definition\n",
       "* Log: [tlspuffin-log.json](./tlspuffin-log.json)\n",
       "\n",
       "With ASAN\n"
      ],
      "text/plain": [
       "<IPython.core.display.Markdown object>"
      ]
     },
     "metadata": {},
     "output_type": "display_data"
    },
    {
     "name": "stdout",
     "output_type": "stream",
     "text": [
      "5772\n",
      "2823668\n",
      "78.43522222222222\n"
     ]
    }
   ],
   "source": [
    "execs_p_sec_average(pesto_path, \"2021-09-13-110048-thesis-openssl-sanitizer-0\")"
   ]
  },
  {
   "cell_type": "markdown",
   "id": "05a9e6d8-aa2a-4a34-855d-d46e2700c834",
   "metadata": {},
   "source": [
    "## Terms and Trace length"
   ]
  },
  {
   "cell_type": "code",
   "execution_count": 111,
   "id": "e997e89e-6fae-41f4-babd-ea4b1ea85b81",
   "metadata": {},
   "outputs": [
    {
     "data": {
      "text/markdown": [
       "# Experiment: thesis-openssl111-again\n",
       "* OpenSSL: OpenSSL 1.1.1k  25 Mar 2021\n",
       "* Date: 2021-10-01T13:29:52.811972451+02:00\n",
       "* Git Ref: 5a9213bf0d6db615e011b42b3eff3a7c6a92701e\n",
       "* Git Commit: Add run configs for OpenSSL 102\n",
       "* Log: [tlspuffin-log.json](./tlspuffin-log.json)\n",
       "\n",
       "Redo intial experiment\n"
      ],
      "text/plain": [
       "<IPython.core.display.Markdown object>"
      ]
     },
     "metadata": {},
     "output_type": "display_data"
    },
    {
     "name": "stdout",
     "output_type": "stream",
     "text": [
      "Max value in plotted data: 370\n",
      "Max value in plotted data: 14\n"
     ]
    },
    {
     "data": {
      "image/png": "[encoded data removed]",
      "text/plain": [
       "<Figure size 208.8x86.4 with 2 Axes>"
      ]
     },
     "metadata": {
      "needs_background": "light"
     },
     "output_type": "display_data"
    }
   ],
   "source": [
    "thesis_plot_trace_term(pesto_path, \"2021-10-01-132952-thesis-openssl111-again-0\")"
   ]
  },
  {
   "cell_type": "code",
   "execution_count": 112,
   "id": "de5ad89a-b2d0-4b9f-90ac-7c60d073254d",
   "metadata": {},
   "outputs": [
    {
     "data": {
      "text/markdown": [
       "# Experiment: thesis-openssl111-again\n",
       "* OpenSSL: OpenSSL 1.1.1k  25 Mar 2021\n",
       "* Date: 2021-10-01T13:29:52.811972451+02:00\n",
       "* Git Ref: 5a9213bf0d6db615e011b42b3eff3a7c6a92701e\n",
       "* Git Commit: Add run configs for OpenSSL 102\n",
       "* Log: [tlspuffin-log.json](./tlspuffin-log.json)\n",
       "\n",
       "Redo intial experiment\n"
      ],
      "text/plain": [
       "<IPython.core.display.Markdown object>"
      ]
     },
     "metadata": {},
     "output_type": "display_data"
    },
    {
     "name": "stdout",
     "output_type": "stream",
     "text": [
      "Max value in plotted data: 370\n"
     ]
    },
    {
     "data": {
      "image/png": "[encoded data removed]",
      "text/plain": [
       "<Figure size 208.8x86.4 with 1 Axes>"
      ]
     },
     "metadata": {
      "needs_background": "light"
     },
     "output_type": "display_data"
    }
   ],
   "source": [
    "thesis_plot_term(pesto_path, \"2021-10-01-132952-thesis-openssl111-again-0\")"
   ]
  },
  {
   "cell_type": "code",
   "execution_count": 113,
   "id": "3977b62d-6aab-4e2f-9e59-07f94238858b",
   "metadata": {},
   "outputs": [
    {
     "data": {
      "text/markdown": [
       "# Experiment: thesis-openssl111-again\n",
       "* OpenSSL: OpenSSL 1.1.1k  25 Mar 2021\n",
       "* Date: 2021-10-01T13:29:52.811972451+02:00\n",
       "* Git Ref: 5a9213bf0d6db615e011b42b3eff3a7c6a92701e\n",
       "* Git Commit: Add run configs for OpenSSL 102\n",
       "* Log: [tlspuffin-log.json](./tlspuffin-log.json)\n",
       "\n",
       "Redo intial experiment\n"
      ],
      "text/plain": [
       "<IPython.core.display.Markdown object>"
      ]
     },
     "metadata": {},
     "output_type": "display_data"
    },
    {
     "name": "stdout",
     "output_type": "stream",
     "text": [
      "Max value in plotted data: 14\n"
     ]
    },
    {
     "data": {
      "image/png": "[encoded data removed]",
      "text/plain": [
       "<Figure size 208.8x86.4 with 1 Axes>"
      ]
     },
     "metadata": {
      "needs_background": "light"
     },
     "output_type": "display_data"
    }
   ],
   "source": [
    "thesis_plot_trace(pesto_path, \"2021-10-01-132952-thesis-openssl111-again-0\")"
   ]
  },
  {
   "cell_type": "code",
   "execution_count": null,
   "id": "707ad685-9ce8-4243-a55c-0a391a66119e",
   "metadata": {},
   "outputs": [],
   "source": []
  }
 ],
 "metadata": {
  "kernelspec": {
   "display_name": "Python 3 (ipykernel)",
   "language": "python",
   "name": "python3"
  },
  "language_info": {
   "codemirror_mode": {
    "name": "ipython",
    "version": 3
   },
   "file_extension": ".py",
   "mimetype": "text/x-python",
   "name": "python",
   "nbconvert_exporter": "python",
   "pygments_lexer": "ipython3",
   "version": "3.8.10"
  }
 },
 "nbformat": 4,
 "nbformat_minor": 5
}
